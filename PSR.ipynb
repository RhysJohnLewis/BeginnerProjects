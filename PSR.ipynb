{
 "cells": [
  {
   "cell_type": "code",
   "execution_count": 70,
   "id": "a5752a72",
   "metadata": {},
   "outputs": [],
   "source": [
    "# import random\n",
    "\n",
    "import random"
   ]
  },
  {
   "cell_type": "code",
   "execution_count": 71,
   "id": "ae59a7f3",
   "metadata": {},
   "outputs": [],
   "source": [
    "# create object\n",
    "\n",
    "class PSR(object):\n",
    "    def __init__(self, name):\n",
    "        self.name = name\n",
    "        \n",
    "    def choice(self):\n",
    "        print(f'You chose {self.name}')\n",
    "        \n",
    "# Create Paper, Scissors and Rock\n",
    "\n",
    "paper = PSR('paper')\n",
    "scissors = PSR('scissors')\n",
    "rock = PSR('rock')"
   ]
  },
  {
   "cell_type": "code",
   "execution_count": 72,
   "id": "cc9840f8",
   "metadata": {},
   "outputs": [
    {
     "name": "stdout",
     "output_type": "stream",
     "text": [
      "paper, scissors or rock? (must be lowercase)paper\n"
     ]
    }
   ],
   "source": [
    "# create tuble and input for user\n",
    "\n",
    "selection = ('paper', 'scissors', 'rock')\n",
    "\n",
    "user = input('paper, scissors or rock? (must be lowercase)')\n",
    "\n",
    "if user not in selection:\n",
    "    user = input('paper, scissors or rock? (must be lowercase)')"
   ]
  },
  {
   "cell_type": "code",
   "execution_count": 73,
   "id": "6191a896",
   "metadata": {},
   "outputs": [],
   "source": [
    "# Computer picks one\n",
    "\n",
    "randnumber = (random.randrange(0, 3))\n",
    "\n",
    "if randnumber == 0:\n",
    "    randnumber = 'paper'\n",
    "elif randnumber == 1:\n",
    "    randnumber = 'scissors'\n",
    "else:\n",
    "    randnumber = 'rock'"
   ]
  },
  {
   "cell_type": "code",
   "execution_count": 74,
   "id": "3fd9acc9",
   "metadata": {},
   "outputs": [],
   "source": [
    "# Determine outcome\n",
    "\n",
    "def outcome():\n",
    "    if user == 'paper':\n",
    "        if randnumber == 'paper':\n",
    "            result = 'the game was a draw'\n",
    "        elif randnumber == 'scissors':\n",
    "            result = 'you lose'\n",
    "        else:\n",
    "            result = 'you won'\n",
    "    if user == 'scissors':\n",
    "        if randnumber == 'scissors':\n",
    "            result = 'the game was a draw'\n",
    "        elif randnumber == 'rock':\n",
    "            result = 'you lose'\n",
    "        else:\n",
    "            result = 'you won'\n",
    "    if user == 'rock':\n",
    "        if randnumber == 'rock':\n",
    "            result = 'the game was a draw'\n",
    "        elif randnumber == 'scissors':\n",
    "            result = 'you lose'\n",
    "        else:\n",
    "            result = 'you won'\n",
    "        \n",
    "    return result"
   ]
  },
  {
   "cell_type": "code",
   "execution_count": 75,
   "id": "882edc99",
   "metadata": {},
   "outputs": [
    {
     "name": "stdout",
     "output_type": "stream",
     "text": [
      "the computer chose rock\n"
     ]
    }
   ],
   "source": [
    "print(f'the computer chose {randnumber}')"
   ]
  },
  {
   "cell_type": "code",
   "execution_count": 76,
   "id": "1af29541",
   "metadata": {},
   "outputs": [
    {
     "data": {
      "text/plain": [
       "'you won'"
      ]
     },
     "execution_count": 76,
     "metadata": {},
     "output_type": "execute_result"
    }
   ],
   "source": [
    "outcome()"
   ]
  },
  {
   "cell_type": "code",
   "execution_count": null,
   "id": "5ca0d0be",
   "metadata": {},
   "outputs": [],
   "source": []
  }
 ],
 "metadata": {
  "kernelspec": {
   "display_name": "Python 3",
   "language": "python",
   "name": "python3"
  },
  "language_info": {
   "codemirror_mode": {
    "name": "ipython",
    "version": 3
   },
   "file_extension": ".py",
   "mimetype": "text/x-python",
   "name": "python",
   "nbconvert_exporter": "python",
   "pygments_lexer": "ipython3",
   "version": "3.8.8"
  }
 },
 "nbformat": 4,
 "nbformat_minor": 5
}
